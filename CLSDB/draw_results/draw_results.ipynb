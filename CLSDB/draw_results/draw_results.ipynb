{
 "cells": [
  {
   "cell_type": "markdown",
   "id": "ad34c556",
   "metadata": {},
   "source": [
    "# results"
   ]
  },
  {
   "cell_type": "code",
   "execution_count": 1,
   "id": "c4c64352",
   "metadata": {
    "ExecuteTime": {
     "end_time": "2022-05-14T05:30:29.720173Z",
     "start_time": "2022-05-14T05:30:28.186965Z"
    }
   },
   "outputs": [],
   "source": [
    "import pandas as pd\n",
    "import numpy as np\n",
    "import matplotlib.pyplot as plt"
   ]
  },
  {
   "cell_type": "code",
   "execution_count": 2,
   "id": "97285976",
   "metadata": {
    "ExecuteTime": {
     "end_time": "2022-05-14T05:30:31.247189Z",
     "start_time": "2022-05-14T05:30:30.746075Z"
    }
   },
   "outputs": [],
   "source": [
    "raw_data = pd.read_excel('RESULTS.xlsx')"
   ]
  },
  {
   "cell_type": "code",
   "execution_count": 3,
   "id": "d5a2ac44",
   "metadata": {
    "ExecuteTime": {
     "end_time": "2022-05-14T05:30:32.391559Z",
     "start_time": "2022-05-14T05:30:32.361670Z"
    }
   },
   "outputs": [
    {
     "data": {
      "text/html": [
       "<div>\n",
       "<style scoped>\n",
       "    .dataframe tbody tr th:only-of-type {\n",
       "        vertical-align: middle;\n",
       "    }\n",
       "\n",
       "    .dataframe tbody tr th {\n",
       "        vertical-align: top;\n",
       "    }\n",
       "\n",
       "    .dataframe thead th {\n",
       "        text-align: right;\n",
       "    }\n",
       "</style>\n",
       "<table border=\"1\" class=\"dataframe\">\n",
       "  <thead>\n",
       "    <tr style=\"text-align: right;\">\n",
       "      <th></th>\n",
       "      <th>Unnamed: 0</th>\n",
       "      <th>CLSDB</th>\n",
       "      <th>AGE</th>\n",
       "      <th>ARGA</th>\n",
       "      <th>VGAE</th>\n",
       "      <th>GIC</th>\n",
       "      <th>Linear AE</th>\n",
       "      <th>MAD</th>\n",
       "      <th>VGNAE</th>\n",
       "      <th>Unnamed: 9</th>\n",
       "    </tr>\n",
       "  </thead>\n",
       "  <tbody>\n",
       "    <tr>\n",
       "      <th>0</th>\n",
       "      <td>精确率AP</td>\n",
       "      <td>0.9020</td>\n",
       "      <td>0.8568</td>\n",
       "      <td>0.8893</td>\n",
       "      <td>0.8814</td>\n",
       "      <td>0.8290</td>\n",
       "      <td>0.8825</td>\n",
       "      <td>0.8327</td>\n",
       "      <td>0.9015</td>\n",
       "      <td>Cora</td>\n",
       "    </tr>\n",
       "    <tr>\n",
       "      <th>1</th>\n",
       "      <td>AUC</td>\n",
       "      <td>0.8851</td>\n",
       "      <td>0.8036</td>\n",
       "      <td>0.8518</td>\n",
       "      <td>0.8400</td>\n",
       "      <td>0.7929</td>\n",
       "      <td>0.8429</td>\n",
       "      <td>0.7791</td>\n",
       "      <td>0.8573</td>\n",
       "      <td>NaN</td>\n",
       "    </tr>\n",
       "    <tr>\n",
       "      <th>2</th>\n",
       "      <td>精确率AP</td>\n",
       "      <td>0.8672</td>\n",
       "      <td>0.8751</td>\n",
       "      <td>0.8654</td>\n",
       "      <td>0.8273</td>\n",
       "      <td>0.8687</td>\n",
       "      <td>0.8363</td>\n",
       "      <td>0.7730</td>\n",
       "      <td>0.8695</td>\n",
       "      <td>Citeseer</td>\n",
       "    </tr>\n",
       "    <tr>\n",
       "      <th>3</th>\n",
       "      <td>AUC</td>\n",
       "      <td>0.8459</td>\n",
       "      <td>0.8448</td>\n",
       "      <td>0.8189</td>\n",
       "      <td>0.7653</td>\n",
       "      <td>0.8244</td>\n",
       "      <td>0.7777</td>\n",
       "      <td>0.7119</td>\n",
       "      <td>0.8103</td>\n",
       "      <td>NaN</td>\n",
       "    </tr>\n",
       "    <tr>\n",
       "      <th>4</th>\n",
       "      <td>精确率AP</td>\n",
       "      <td>0.8964</td>\n",
       "      <td>0.8948</td>\n",
       "      <td>0.8769</td>\n",
       "      <td>0.9141</td>\n",
       "      <td>0.8613</td>\n",
       "      <td>0.8903</td>\n",
       "      <td>0.8781</td>\n",
       "      <td>0.8984</td>\n",
       "      <td>email</td>\n",
       "    </tr>\n",
       "    <tr>\n",
       "      <th>5</th>\n",
       "      <td>AUC</td>\n",
       "      <td>0.8907</td>\n",
       "      <td>0.8829</td>\n",
       "      <td>0.8652</td>\n",
       "      <td>0.8828</td>\n",
       "      <td>0.8413</td>\n",
       "      <td>0.8692</td>\n",
       "      <td>0.8619</td>\n",
       "      <td>0.8796</td>\n",
       "      <td>NaN</td>\n",
       "    </tr>\n",
       "    <tr>\n",
       "      <th>6</th>\n",
       "      <td>精确率AP</td>\n",
       "      <td>0.9297</td>\n",
       "      <td>0.9212</td>\n",
       "      <td>0.9276</td>\n",
       "      <td>0.9234</td>\n",
       "      <td>0.8905</td>\n",
       "      <td>0.9331</td>\n",
       "      <td>0.9373</td>\n",
       "      <td>0.9470</td>\n",
       "      <td>wiki</td>\n",
       "    </tr>\n",
       "    <tr>\n",
       "      <th>7</th>\n",
       "      <td>AUC</td>\n",
       "      <td>0.9259</td>\n",
       "      <td>0.9094</td>\n",
       "      <td>0.9027</td>\n",
       "      <td>0.8936</td>\n",
       "      <td>0.8543</td>\n",
       "      <td>0.9100</td>\n",
       "      <td>0.9219</td>\n",
       "      <td>0.9280</td>\n",
       "      <td>NaN</td>\n",
       "    </tr>\n",
       "  </tbody>\n",
       "</table>\n",
       "</div>"
      ],
      "text/plain": [
       "  Unnamed: 0   CLSDB     AGE    ARGA    VGAE     GIC  Linear AE     MAD  \\\n",
       "0      精确率AP  0.9020  0.8568  0.8893  0.8814  0.8290     0.8825  0.8327   \n",
       "1        AUC  0.8851  0.8036  0.8518  0.8400  0.7929     0.8429  0.7791   \n",
       "2      精确率AP  0.8672  0.8751  0.8654  0.8273  0.8687     0.8363  0.7730   \n",
       "3        AUC  0.8459  0.8448  0.8189  0.7653  0.8244     0.7777  0.7119   \n",
       "4      精确率AP  0.8964  0.8948  0.8769  0.9141  0.8613     0.8903  0.8781   \n",
       "5        AUC  0.8907  0.8829  0.8652  0.8828  0.8413     0.8692  0.8619   \n",
       "6      精确率AP  0.9297  0.9212  0.9276  0.9234  0.8905     0.9331  0.9373   \n",
       "7        AUC  0.9259  0.9094  0.9027  0.8936  0.8543     0.9100  0.9219   \n",
       "\n",
       "    VGNAE Unnamed: 9  \n",
       "0  0.9015       Cora  \n",
       "1  0.8573        NaN  \n",
       "2  0.8695   Citeseer  \n",
       "3  0.8103        NaN  \n",
       "4  0.8984      email  \n",
       "5  0.8796        NaN  \n",
       "6  0.9470       wiki  \n",
       "7  0.9280        NaN  "
      ]
     },
     "execution_count": 3,
     "metadata": {},
     "output_type": "execute_result"
    }
   ],
   "source": [
    "raw_data"
   ]
  },
  {
   "cell_type": "code",
   "execution_count": 4,
   "id": "8095e218",
   "metadata": {
    "ExecuteTime": {
     "end_time": "2022-05-14T05:30:33.013606Z",
     "start_time": "2022-05-14T05:30:33.000642Z"
    }
   },
   "outputs": [],
   "source": [
    "indi_ap = raw_data.iloc[[0,2,4,6],:-1].iloc[:,1:]"
   ]
  },
  {
   "cell_type": "code",
   "execution_count": 5,
   "id": "a679bf5b",
   "metadata": {
    "ExecuteTime": {
     "end_time": "2022-05-14T05:30:33.599593Z",
     "start_time": "2022-05-14T05:30:33.576654Z"
    }
   },
   "outputs": [
    {
     "data": {
      "text/html": [
       "<div>\n",
       "<style scoped>\n",
       "    .dataframe tbody tr th:only-of-type {\n",
       "        vertical-align: middle;\n",
       "    }\n",
       "\n",
       "    .dataframe tbody tr th {\n",
       "        vertical-align: top;\n",
       "    }\n",
       "\n",
       "    .dataframe thead th {\n",
       "        text-align: right;\n",
       "    }\n",
       "</style>\n",
       "<table border=\"1\" class=\"dataframe\">\n",
       "  <thead>\n",
       "    <tr style=\"text-align: right;\">\n",
       "      <th></th>\n",
       "      <th>CLSDB</th>\n",
       "      <th>AGE</th>\n",
       "      <th>ARGA</th>\n",
       "      <th>VGAE</th>\n",
       "      <th>GIC</th>\n",
       "      <th>Linear AE</th>\n",
       "      <th>MAD</th>\n",
       "      <th>VGNAE</th>\n",
       "    </tr>\n",
       "  </thead>\n",
       "  <tbody>\n",
       "    <tr>\n",
       "      <th>0</th>\n",
       "      <td>0.9020</td>\n",
       "      <td>0.8568</td>\n",
       "      <td>0.8893</td>\n",
       "      <td>0.8814</td>\n",
       "      <td>0.8290</td>\n",
       "      <td>0.8825</td>\n",
       "      <td>0.8327</td>\n",
       "      <td>0.9015</td>\n",
       "    </tr>\n",
       "    <tr>\n",
       "      <th>2</th>\n",
       "      <td>0.8672</td>\n",
       "      <td>0.8751</td>\n",
       "      <td>0.8654</td>\n",
       "      <td>0.8273</td>\n",
       "      <td>0.8687</td>\n",
       "      <td>0.8363</td>\n",
       "      <td>0.7730</td>\n",
       "      <td>0.8695</td>\n",
       "    </tr>\n",
       "    <tr>\n",
       "      <th>4</th>\n",
       "      <td>0.8964</td>\n",
       "      <td>0.8948</td>\n",
       "      <td>0.8769</td>\n",
       "      <td>0.9141</td>\n",
       "      <td>0.8613</td>\n",
       "      <td>0.8903</td>\n",
       "      <td>0.8781</td>\n",
       "      <td>0.8984</td>\n",
       "    </tr>\n",
       "    <tr>\n",
       "      <th>6</th>\n",
       "      <td>0.9297</td>\n",
       "      <td>0.9212</td>\n",
       "      <td>0.9276</td>\n",
       "      <td>0.9234</td>\n",
       "      <td>0.8905</td>\n",
       "      <td>0.9331</td>\n",
       "      <td>0.9373</td>\n",
       "      <td>0.9470</td>\n",
       "    </tr>\n",
       "  </tbody>\n",
       "</table>\n",
       "</div>"
      ],
      "text/plain": [
       "    CLSDB     AGE    ARGA    VGAE     GIC  Linear AE     MAD   VGNAE\n",
       "0  0.9020  0.8568  0.8893  0.8814  0.8290     0.8825  0.8327  0.9015\n",
       "2  0.8672  0.8751  0.8654  0.8273  0.8687     0.8363  0.7730  0.8695\n",
       "4  0.8964  0.8948  0.8769  0.9141  0.8613     0.8903  0.8781  0.8984\n",
       "6  0.9297  0.9212  0.9276  0.9234  0.8905     0.9331  0.9373  0.9470"
      ]
     },
     "execution_count": 5,
     "metadata": {},
     "output_type": "execute_result"
    }
   ],
   "source": [
    "indi_ap"
   ]
  },
  {
   "cell_type": "code",
   "execution_count": 6,
   "id": "fe742baa",
   "metadata": {
    "ExecuteTime": {
     "end_time": "2022-05-14T05:30:34.102712Z",
     "start_time": "2022-05-14T05:30:34.088749Z"
    }
   },
   "outputs": [],
   "source": [
    "indi_auc = raw_data.iloc[[1,3,5,7],:-1].iloc[:,1:]"
   ]
  },
  {
   "cell_type": "code",
   "execution_count": 7,
   "id": "fe06bcfb",
   "metadata": {
    "ExecuteTime": {
     "end_time": "2022-05-14T05:30:34.823527Z",
     "start_time": "2022-05-14T05:30:34.809559Z"
    }
   },
   "outputs": [
    {
     "data": {
      "text/html": [
       "<div>\n",
       "<style scoped>\n",
       "    .dataframe tbody tr th:only-of-type {\n",
       "        vertical-align: middle;\n",
       "    }\n",
       "\n",
       "    .dataframe tbody tr th {\n",
       "        vertical-align: top;\n",
       "    }\n",
       "\n",
       "    .dataframe thead th {\n",
       "        text-align: right;\n",
       "    }\n",
       "</style>\n",
       "<table border=\"1\" class=\"dataframe\">\n",
       "  <thead>\n",
       "    <tr style=\"text-align: right;\">\n",
       "      <th></th>\n",
       "      <th>CLSDB</th>\n",
       "      <th>AGE</th>\n",
       "      <th>ARGA</th>\n",
       "      <th>VGAE</th>\n",
       "      <th>GIC</th>\n",
       "      <th>Linear AE</th>\n",
       "      <th>MAD</th>\n",
       "      <th>VGNAE</th>\n",
       "    </tr>\n",
       "  </thead>\n",
       "  <tbody>\n",
       "    <tr>\n",
       "      <th>1</th>\n",
       "      <td>0.8851</td>\n",
       "      <td>0.8036</td>\n",
       "      <td>0.8518</td>\n",
       "      <td>0.8400</td>\n",
       "      <td>0.7929</td>\n",
       "      <td>0.8429</td>\n",
       "      <td>0.7791</td>\n",
       "      <td>0.8573</td>\n",
       "    </tr>\n",
       "    <tr>\n",
       "      <th>3</th>\n",
       "      <td>0.8459</td>\n",
       "      <td>0.8448</td>\n",
       "      <td>0.8189</td>\n",
       "      <td>0.7653</td>\n",
       "      <td>0.8244</td>\n",
       "      <td>0.7777</td>\n",
       "      <td>0.7119</td>\n",
       "      <td>0.8103</td>\n",
       "    </tr>\n",
       "    <tr>\n",
       "      <th>5</th>\n",
       "      <td>0.8907</td>\n",
       "      <td>0.8829</td>\n",
       "      <td>0.8652</td>\n",
       "      <td>0.8828</td>\n",
       "      <td>0.8413</td>\n",
       "      <td>0.8692</td>\n",
       "      <td>0.8619</td>\n",
       "      <td>0.8796</td>\n",
       "    </tr>\n",
       "    <tr>\n",
       "      <th>7</th>\n",
       "      <td>0.9259</td>\n",
       "      <td>0.9094</td>\n",
       "      <td>0.9027</td>\n",
       "      <td>0.8936</td>\n",
       "      <td>0.8543</td>\n",
       "      <td>0.9100</td>\n",
       "      <td>0.9219</td>\n",
       "      <td>0.9280</td>\n",
       "    </tr>\n",
       "  </tbody>\n",
       "</table>\n",
       "</div>"
      ],
      "text/plain": [
       "    CLSDB     AGE    ARGA    VGAE     GIC  Linear AE     MAD   VGNAE\n",
       "1  0.8851  0.8036  0.8518  0.8400  0.7929     0.8429  0.7791  0.8573\n",
       "3  0.8459  0.8448  0.8189  0.7653  0.8244     0.7777  0.7119  0.8103\n",
       "5  0.8907  0.8829  0.8652  0.8828  0.8413     0.8692  0.8619  0.8796\n",
       "7  0.9259  0.9094  0.9027  0.8936  0.8543     0.9100  0.9219  0.9280"
      ]
     },
     "execution_count": 7,
     "metadata": {},
     "output_type": "execute_result"
    }
   ],
   "source": [
    "indi_auc"
   ]
  },
  {
   "cell_type": "code",
   "execution_count": 8,
   "id": "6680fdbf",
   "metadata": {
    "ExecuteTime": {
     "end_time": "2022-05-14T05:30:35.523681Z",
     "start_time": "2022-05-14T05:30:35.513745Z"
    }
   },
   "outputs": [],
   "source": [
    "index = ['Cora','Citeseer','Email','Wiki']\n",
    "indi_ap.index = index\n",
    "indi_auc.index = index\n",
    "indi_ap = indi_ap.T\n",
    "indi_auc = indi_auc.T"
   ]
  },
  {
   "cell_type": "code",
   "execution_count": 9,
   "id": "a11501ac",
   "metadata": {
    "ExecuteTime": {
     "end_time": "2022-05-14T05:30:36.990621Z",
     "start_time": "2022-05-14T05:30:36.969764Z"
    }
   },
   "outputs": [
    {
     "data": {
      "text/html": [
       "<div>\n",
       "<style scoped>\n",
       "    .dataframe tbody tr th:only-of-type {\n",
       "        vertical-align: middle;\n",
       "    }\n",
       "\n",
       "    .dataframe tbody tr th {\n",
       "        vertical-align: top;\n",
       "    }\n",
       "\n",
       "    .dataframe thead th {\n",
       "        text-align: right;\n",
       "    }\n",
       "</style>\n",
       "<table border=\"1\" class=\"dataframe\">\n",
       "  <thead>\n",
       "    <tr style=\"text-align: right;\">\n",
       "      <th></th>\n",
       "      <th>Cora</th>\n",
       "      <th>Citeseer</th>\n",
       "      <th>Email</th>\n",
       "      <th>Wiki</th>\n",
       "    </tr>\n",
       "  </thead>\n",
       "  <tbody>\n",
       "    <tr>\n",
       "      <th>CLSDB</th>\n",
       "      <td>0.9020</td>\n",
       "      <td>0.8672</td>\n",
       "      <td>0.8964</td>\n",
       "      <td>0.9297</td>\n",
       "    </tr>\n",
       "    <tr>\n",
       "      <th>AGE</th>\n",
       "      <td>0.8568</td>\n",
       "      <td>0.8751</td>\n",
       "      <td>0.8948</td>\n",
       "      <td>0.9212</td>\n",
       "    </tr>\n",
       "    <tr>\n",
       "      <th>ARGA</th>\n",
       "      <td>0.8893</td>\n",
       "      <td>0.8654</td>\n",
       "      <td>0.8769</td>\n",
       "      <td>0.9276</td>\n",
       "    </tr>\n",
       "    <tr>\n",
       "      <th>VGAE</th>\n",
       "      <td>0.8814</td>\n",
       "      <td>0.8273</td>\n",
       "      <td>0.9141</td>\n",
       "      <td>0.9234</td>\n",
       "    </tr>\n",
       "    <tr>\n",
       "      <th>GIC</th>\n",
       "      <td>0.8290</td>\n",
       "      <td>0.8687</td>\n",
       "      <td>0.8613</td>\n",
       "      <td>0.8905</td>\n",
       "    </tr>\n",
       "    <tr>\n",
       "      <th>Linear AE</th>\n",
       "      <td>0.8825</td>\n",
       "      <td>0.8363</td>\n",
       "      <td>0.8903</td>\n",
       "      <td>0.9331</td>\n",
       "    </tr>\n",
       "    <tr>\n",
       "      <th>MAD</th>\n",
       "      <td>0.8327</td>\n",
       "      <td>0.7730</td>\n",
       "      <td>0.8781</td>\n",
       "      <td>0.9373</td>\n",
       "    </tr>\n",
       "    <tr>\n",
       "      <th>VGNAE</th>\n",
       "      <td>0.9015</td>\n",
       "      <td>0.8695</td>\n",
       "      <td>0.8984</td>\n",
       "      <td>0.9470</td>\n",
       "    </tr>\n",
       "  </tbody>\n",
       "</table>\n",
       "</div>"
      ],
      "text/plain": [
       "             Cora  Citeseer   Email    Wiki\n",
       "CLSDB      0.9020    0.8672  0.8964  0.9297\n",
       "AGE        0.8568    0.8751  0.8948  0.9212\n",
       "ARGA       0.8893    0.8654  0.8769  0.9276\n",
       "VGAE       0.8814    0.8273  0.9141  0.9234\n",
       "GIC        0.8290    0.8687  0.8613  0.8905\n",
       "Linear AE  0.8825    0.8363  0.8903  0.9331\n",
       "MAD        0.8327    0.7730  0.8781  0.9373\n",
       "VGNAE      0.9015    0.8695  0.8984  0.9470"
      ]
     },
     "execution_count": 9,
     "metadata": {},
     "output_type": "execute_result"
    }
   ],
   "source": [
    "indi_ap"
   ]
  },
  {
   "cell_type": "code",
   "execution_count": 15,
   "id": "e2925d4f",
   "metadata": {
    "ExecuteTime": {
     "end_time": "2022-05-14T05:33:30.840932Z",
     "start_time": "2022-05-14T05:33:30.443674Z"
    }
   },
   "outputs": [
    {
     "data": {
      "image/png": "[encoded data removed]",
      "text/plain": [
       "<Figure size 2160x1440 with 2 Axes>"
      ]
     },
     "metadata": {
      "needs_background": "light"
     },
     "output_type": "display_data"
    }
   ],
   "source": [
    "# 绘制实验结果\n",
    "bin_width=4.0\n",
    "x = [i*40 for i in range(4)]\n",
    "labels = index\n",
    "\n",
    "plt.figure(figsize=(30, 20))   # (宽，高)\n",
    "plt.subplots_adjust(wspace=0.3, hspace=0.3)\n",
    "\n",
    "hatches = ['...', '\\\\', 'xxx', '-', 'x', '||', '+', '..']\n",
    "\n",
    "ax1 = plt.subplot(4,1,1)\n",
    "plt.bar(x=x, height=indi_ap.iloc[0,:], width=bin_width, label=indi_ap.index[0], hatch=hatches[0], edgecolor=\"k\", color='white')\n",
    "plt.bar(x=[i + bin_width*1 for i in x], height=indi_ap.iloc[6,:], width=bin_width, label=indi_ap.index[6],  hatch=hatches[6], edgecolor=\"k\", color='white')\n",
    "\n",
    "plt.bar(x=[i + bin_width*2 for i in x], height=indi_ap.iloc[1,:], width=bin_width,  label=indi_ap.index[1], hatch=hatches[1], edgecolor=\"k\", color='white')\n",
    "plt.bar(x=[i + bin_width*3 for i in x], height=indi_ap.iloc[5,:], width=bin_width, label=indi_ap.index[5],  hatch=hatches[5], edgecolor=\"k\", color='white')\n",
    "\n",
    "plt.bar(x=[i + bin_width*4 for i in x], height=indi_ap.iloc[7,:], width=bin_width, label=indi_ap.index[7],  hatch=hatches[7], edgecolor=\"k\", color='white')\n",
    "plt.bar(x=[i + bin_width*5 for i in x], height=indi_ap.iloc[2,:], width=bin_width, label=indi_ap.index[2],  hatch=hatches[2], edgecolor=\"k\", color='white')\n",
    "plt.bar(x=[i + bin_width*6 for i in x], height=indi_ap.iloc[3,:], width=bin_width, label=indi_ap.index[3],  hatch=hatches[3], edgecolor=\"k\", color='white')\n",
    "plt.bar(x=[i + bin_width*7 for i in x], height=indi_ap.iloc[4,:], width=bin_width, label=indi_ap.index[4],  hatch=hatches[4], edgecolor=\"k\", color='white')\n",
    "\n",
    "\n",
    "#plt.ylim(0.5, 1.0)     # y轴取值范围\n",
    "#plt.xticks([index + 25.0 for index in x], labels)\n",
    "plt.xticks([])  # 去x坐标刻度\n",
    "plt.ylim(0.7, 1.0)\n",
    "# plt.tick_params(labelsize=40)  #刻度字体大25\n",
    "plt.yticks([0.7,0.8,0.9,1.0], size=30)\n",
    "handles, lengend_labels = plt.gca().get_legend_handles_labels()\n",
    "#print(lengend_labels)\n",
    "order = [0,4,1,5,2,6,3,7]\n",
    "plt.legend([handles[idx] for idx in order],[lengend_labels[idx] for idx in order],bbox_to_anchor=(0.115,1.00), loc=3, ncol=4, borderaxespad=0,fontsize=40.0,frameon=False)\n",
    "plt.ylabel('AP',fontsize=40)\n",
    "for key, spine in ax1.spines.items():\n",
    "   # 'left', 'right', 'bottom', 'top'\n",
    "   if(key == 'top' or key == 'right'):\n",
    "        spine.set_visible(False)\n",
    "\n",
    "ax2 = plt.subplot(4,1,2)\n",
    "plt.bar(x=x, height=indi_auc.iloc[0,:], width=bin_width, alpha=1, hatch=hatches[0], edgecolor=\"k\", color='white')\n",
    "plt.bar(x=[i + bin_width*1 for i in x], height=indi_auc.iloc[6,:], width=bin_width, hatch=hatches[6], edgecolor=\"k\", color='white')\n",
    "\n",
    "plt.bar(x=[i + bin_width*2 for i in x], height=indi_auc.iloc[1,:], width=bin_width, hatch=hatches[1], edgecolor=\"k\", color='white')\n",
    "plt.bar(x=[i + bin_width*3 for i in x], height=indi_auc.iloc[5,:], width=bin_width, hatch=hatches[5], edgecolor=\"k\", color='white')\n",
    "\n",
    "plt.bar(x=[i + bin_width*4 for i in x], height=indi_auc.iloc[7,:], width=bin_width, hatch=hatches[7], edgecolor=\"k\", color='white')\n",
    "plt.bar(x=[i + bin_width*5 for i in x], height=indi_auc.iloc[2,:], width=bin_width, hatch=hatches[2], edgecolor=\"k\", color='white')\n",
    "plt.bar(x=[i + bin_width*6 for i in x], height=indi_auc.iloc[3,:], width=bin_width, hatch=hatches[3], edgecolor=\"k\", color='white')\n",
    "plt.bar(x=[i + bin_width*7 for i in x], height=indi_auc.iloc[4,:], width=bin_width, hatch=hatches[4], edgecolor=\"k\", color='white')\n",
    "\n",
    "plt.xticks([index + 14.0 for index in x], labels, size=40)   # INDEX\n",
    "\n",
    "plt.ylim(0.7, 1.0)\n",
    "#plt.tick_params(labelsize=40)  #刻度字体大25\n",
    "plt.yticks([0.7,0.8,0.9,1.0], size=30)\n",
    "plt.ylabel('AUC',fontsize=40)\n",
    "for key, spine in ax2.spines.items():\n",
    "   # 'left', 'right', 'bottom', 'top'\n",
    "   if(key == 'top' or key == 'right'):\n",
    "        spine.set_visible(False)\n",
    "\n",
    "plt.savefig(\"indicators.svg\",bbox_inches='tight')\n",
    "plt.show()"
   ]
  },
  {
   "cell_type": "markdown",
   "id": "e69ff331",
   "metadata": {},
   "source": [
    "# parameters"
   ]
  },
  {
   "cell_type": "code",
   "execution_count": 94,
   "id": "c02cb177",
   "metadata": {
    "ExecuteTime": {
     "end_time": "2022-05-09T10:33:20.936913Z",
     "start_time": "2022-05-09T10:33:20.926721Z"
    }
   },
   "outputs": [],
   "source": [
    "import seaborn as sns\n",
    "import pandas as pd\n",
    "import numpy as np\n",
    "import matplotlib.pyplot as plt"
   ]
  },
  {
   "cell_type": "code",
   "execution_count": 95,
   "id": "3d48e98c",
   "metadata": {
    "ExecuteTime": {
     "end_time": "2022-05-09T10:33:21.512512Z",
     "start_time": "2022-05-09T10:33:21.486793Z"
    }
   },
   "outputs": [],
   "source": [
    "auc_data = pd.read_excel(\"Email_AUC.xlsx\")"
   ]
  },
  {
   "cell_type": "code",
   "execution_count": 96,
   "id": "d83f09f7",
   "metadata": {
    "ExecuteTime": {
     "end_time": "2022-05-09T10:33:21.949334Z",
     "start_time": "2022-05-09T10:33:21.935716Z"
    }
   },
   "outputs": [
    {
     "data": {
      "text/html": [
       "<div>\n",
       "<style scoped>\n",
       "    .dataframe tbody tr th:only-of-type {\n",
       "        vertical-align: middle;\n",
       "    }\n",
       "\n",
       "    .dataframe tbody tr th {\n",
       "        vertical-align: top;\n",
       "    }\n",
       "\n",
       "    .dataframe thead th {\n",
       "        text-align: right;\n",
       "    }\n",
       "</style>\n",
       "<table border=\"1\" class=\"dataframe\">\n",
       "  <thead>\n",
       "    <tr style=\"text-align: right;\">\n",
       "      <th></th>\n",
       "      <th>Unnamed: 0</th>\n",
       "      <th>16</th>\n",
       "      <th>18</th>\n",
       "      <th>20</th>\n",
       "      <th>22</th>\n",
       "      <th>24</th>\n",
       "      <th>26</th>\n",
       "      <th>28</th>\n",
       "    </tr>\n",
       "  </thead>\n",
       "  <tbody>\n",
       "    <tr>\n",
       "      <th>0</th>\n",
       "      <td>8</td>\n",
       "      <td>0.873774</td>\n",
       "      <td>0.872754</td>\n",
       "      <td>0.874542</td>\n",
       "      <td>0.861090</td>\n",
       "      <td>0.876780</td>\n",
       "      <td>0.868809</td>\n",
       "      <td>0.867183</td>\n",
       "    </tr>\n",
       "    <tr>\n",
       "      <th>1</th>\n",
       "      <td>10</td>\n",
       "      <td>0.868427</td>\n",
       "      <td>0.863288</td>\n",
       "      <td>0.869725</td>\n",
       "      <td>0.868357</td>\n",
       "      <td>0.882834</td>\n",
       "      <td>0.877853</td>\n",
       "      <td>0.873704</td>\n",
       "    </tr>\n",
       "    <tr>\n",
       "      <th>2</th>\n",
       "      <td>12</td>\n",
       "      <td>0.879464</td>\n",
       "      <td>0.878850</td>\n",
       "      <td>0.881852</td>\n",
       "      <td>0.881878</td>\n",
       "      <td>0.886008</td>\n",
       "      <td>0.882679</td>\n",
       "      <td>0.873911</td>\n",
       "    </tr>\n",
       "    <tr>\n",
       "      <th>3</th>\n",
       "      <td>14</td>\n",
       "      <td>0.875894</td>\n",
       "      <td>0.867582</td>\n",
       "      <td>0.871949</td>\n",
       "      <td>0.870148</td>\n",
       "      <td>0.878339</td>\n",
       "      <td>0.876427</td>\n",
       "      <td>0.868762</td>\n",
       "    </tr>\n",
       "    <tr>\n",
       "      <th>4</th>\n",
       "      <td>16</td>\n",
       "      <td>0.871121</td>\n",
       "      <td>0.865589</td>\n",
       "      <td>0.865512</td>\n",
       "      <td>0.866116</td>\n",
       "      <td>0.883247</td>\n",
       "      <td>0.879580</td>\n",
       "      <td>0.866941</td>\n",
       "    </tr>\n",
       "  </tbody>\n",
       "</table>\n",
       "</div>"
      ],
      "text/plain": [
       "   Unnamed: 0        16        18        20        22        24        26  \\\n",
       "0           8  0.873774  0.872754  0.874542  0.861090  0.876780  0.868809   \n",
       "1          10  0.868427  0.863288  0.869725  0.868357  0.882834  0.877853   \n",
       "2          12  0.879464  0.878850  0.881852  0.881878  0.886008  0.882679   \n",
       "3          14  0.875894  0.867582  0.871949  0.870148  0.878339  0.876427   \n",
       "4          16  0.871121  0.865589  0.865512  0.866116  0.883247  0.879580   \n",
       "\n",
       "         28  \n",
       "0  0.867183  \n",
       "1  0.873704  \n",
       "2  0.873911  \n",
       "3  0.868762  \n",
       "4  0.866941  "
      ]
     },
     "execution_count": 96,
     "metadata": {},
     "output_type": "execute_result"
    }
   ],
   "source": [
    "auc_data"
   ]
  },
  {
   "cell_type": "code",
   "execution_count": 97,
   "id": "dada015a",
   "metadata": {
    "ExecuteTime": {
     "end_time": "2022-05-09T10:33:22.399356Z",
     "start_time": "2022-05-09T10:33:22.383433Z"
    }
   },
   "outputs": [],
   "source": [
    "auc_data = auc_data.iloc[:, 1:]"
   ]
  },
  {
   "cell_type": "code",
   "execution_count": 98,
   "id": "ccd3b3ec",
   "metadata": {
    "ExecuteTime": {
     "end_time": "2022-05-09T10:33:23.024729Z",
     "start_time": "2022-05-09T10:33:23.006683Z"
    }
   },
   "outputs": [],
   "source": [
    "auc_data.index = [8,10,12,14,16]"
   ]
  },
  {
   "cell_type": "code",
   "execution_count": 99,
   "id": "99ce119e",
   "metadata": {
    "ExecuteTime": {
     "end_time": "2022-05-09T10:33:23.683179Z",
     "start_time": "2022-05-09T10:33:23.663263Z"
    }
   },
   "outputs": [
    {
     "data": {
      "text/html": [
       "<div>\n",
       "<style scoped>\n",
       "    .dataframe tbody tr th:only-of-type {\n",
       "        vertical-align: middle;\n",
       "    }\n",
       "\n",
       "    .dataframe tbody tr th {\n",
       "        vertical-align: top;\n",
       "    }\n",
       "\n",
       "    .dataframe thead th {\n",
       "        text-align: right;\n",
       "    }\n",
       "</style>\n",
       "<table border=\"1\" class=\"dataframe\">\n",
       "  <thead>\n",
       "    <tr style=\"text-align: right;\">\n",
       "      <th></th>\n",
       "      <th>16</th>\n",
       "      <th>18</th>\n",
       "      <th>20</th>\n",
       "      <th>22</th>\n",
       "      <th>24</th>\n",
       "      <th>26</th>\n",
       "      <th>28</th>\n",
       "    </tr>\n",
       "  </thead>\n",
       "  <tbody>\n",
       "    <tr>\n",
       "      <th>8</th>\n",
       "      <td>0.873774</td>\n",
       "      <td>0.872754</td>\n",
       "      <td>0.874542</td>\n",
       "      <td>0.861090</td>\n",
       "      <td>0.876780</td>\n",
       "      <td>0.868809</td>\n",
       "      <td>0.867183</td>\n",
       "    </tr>\n",
       "    <tr>\n",
       "      <th>10</th>\n",
       "      <td>0.868427</td>\n",
       "      <td>0.863288</td>\n",
       "      <td>0.869725</td>\n",
       "      <td>0.868357</td>\n",
       "      <td>0.882834</td>\n",
       "      <td>0.877853</td>\n",
       "      <td>0.873704</td>\n",
       "    </tr>\n",
       "    <tr>\n",
       "      <th>12</th>\n",
       "      <td>0.879464</td>\n",
       "      <td>0.878850</td>\n",
       "      <td>0.881852</td>\n",
       "      <td>0.881878</td>\n",
       "      <td>0.886008</td>\n",
       "      <td>0.882679</td>\n",
       "      <td>0.873911</td>\n",
       "    </tr>\n",
       "    <tr>\n",
       "      <th>14</th>\n",
       "      <td>0.875894</td>\n",
       "      <td>0.867582</td>\n",
       "      <td>0.871949</td>\n",
       "      <td>0.870148</td>\n",
       "      <td>0.878339</td>\n",
       "      <td>0.876427</td>\n",
       "      <td>0.868762</td>\n",
       "    </tr>\n",
       "    <tr>\n",
       "      <th>16</th>\n",
       "      <td>0.871121</td>\n",
       "      <td>0.865589</td>\n",
       "      <td>0.865512</td>\n",
       "      <td>0.866116</td>\n",
       "      <td>0.883247</td>\n",
       "      <td>0.879580</td>\n",
       "      <td>0.866941</td>\n",
       "    </tr>\n",
       "  </tbody>\n",
       "</table>\n",
       "</div>"
      ],
      "text/plain": [
       "          16        18        20        22        24        26        28\n",
       "8   0.873774  0.872754  0.874542  0.861090  0.876780  0.868809  0.867183\n",
       "10  0.868427  0.863288  0.869725  0.868357  0.882834  0.877853  0.873704\n",
       "12  0.879464  0.878850  0.881852  0.881878  0.886008  0.882679  0.873911\n",
       "14  0.875894  0.867582  0.871949  0.870148  0.878339  0.876427  0.868762\n",
       "16  0.871121  0.865589  0.865512  0.866116  0.883247  0.879580  0.866941"
      ]
     },
     "execution_count": 99,
     "metadata": {},
     "output_type": "execute_result"
    }
   ],
   "source": [
    "auc_data"
   ]
  },
  {
   "cell_type": "code",
   "execution_count": 100,
   "id": "b45a0828",
   "metadata": {
    "ExecuteTime": {
     "end_time": "2022-05-09T10:33:24.347645Z",
     "start_time": "2022-05-09T10:33:24.318305Z"
    }
   },
   "outputs": [],
   "source": [
    "ap_data = pd.read_excel(\"Email_AP.xlsx\")"
   ]
  },
  {
   "cell_type": "code",
   "execution_count": 101,
   "id": "1de7e895",
   "metadata": {
    "ExecuteTime": {
     "end_time": "2022-05-09T10:33:24.897632Z",
     "start_time": "2022-05-09T10:33:24.878702Z"
    }
   },
   "outputs": [
    {
     "data": {
      "text/html": [
       "<div>\n",
       "<style scoped>\n",
       "    .dataframe tbody tr th:only-of-type {\n",
       "        vertical-align: middle;\n",
       "    }\n",
       "\n",
       "    .dataframe tbody tr th {\n",
       "        vertical-align: top;\n",
       "    }\n",
       "\n",
       "    .dataframe thead th {\n",
       "        text-align: right;\n",
       "    }\n",
       "</style>\n",
       "<table border=\"1\" class=\"dataframe\">\n",
       "  <thead>\n",
       "    <tr style=\"text-align: right;\">\n",
       "      <th></th>\n",
       "      <th>Unnamed: 0</th>\n",
       "      <th>16</th>\n",
       "      <th>18</th>\n",
       "      <th>20</th>\n",
       "      <th>22</th>\n",
       "      <th>24</th>\n",
       "      <th>26</th>\n",
       "      <th>28</th>\n",
       "    </tr>\n",
       "  </thead>\n",
       "  <tbody>\n",
       "    <tr>\n",
       "      <th>0</th>\n",
       "      <td>8</td>\n",
       "      <td>0.870415</td>\n",
       "      <td>0.875181</td>\n",
       "      <td>0.881455</td>\n",
       "      <td>0.883159</td>\n",
       "      <td>0.888040</td>\n",
       "      <td>0.878784</td>\n",
       "      <td>0.874759</td>\n",
       "    </tr>\n",
       "    <tr>\n",
       "      <th>1</th>\n",
       "      <td>10</td>\n",
       "      <td>0.871100</td>\n",
       "      <td>0.878647</td>\n",
       "      <td>0.882679</td>\n",
       "      <td>0.886262</td>\n",
       "      <td>0.891382</td>\n",
       "      <td>0.887291</td>\n",
       "      <td>0.875396</td>\n",
       "    </tr>\n",
       "    <tr>\n",
       "      <th>2</th>\n",
       "      <td>12</td>\n",
       "      <td>0.873354</td>\n",
       "      <td>0.879060</td>\n",
       "      <td>0.883811</td>\n",
       "      <td>0.887352</td>\n",
       "      <td>0.897580</td>\n",
       "      <td>0.893562</td>\n",
       "      <td>0.877569</td>\n",
       "    </tr>\n",
       "    <tr>\n",
       "      <th>3</th>\n",
       "      <td>14</td>\n",
       "      <td>0.872230</td>\n",
       "      <td>0.876599</td>\n",
       "      <td>0.878537</td>\n",
       "      <td>0.881064</td>\n",
       "      <td>0.894828</td>\n",
       "      <td>0.883160</td>\n",
       "      <td>0.874337</td>\n",
       "    </tr>\n",
       "    <tr>\n",
       "      <th>4</th>\n",
       "      <td>16</td>\n",
       "      <td>0.871016</td>\n",
       "      <td>0.862422</td>\n",
       "      <td>0.880106</td>\n",
       "      <td>0.871333</td>\n",
       "      <td>0.893140</td>\n",
       "      <td>0.890404</td>\n",
       "      <td>0.874061</td>\n",
       "    </tr>\n",
       "  </tbody>\n",
       "</table>\n",
       "</div>"
      ],
      "text/plain": [
       "   Unnamed: 0        16        18        20        22        24        26  \\\n",
       "0           8  0.870415  0.875181  0.881455  0.883159  0.888040  0.878784   \n",
       "1          10  0.871100  0.878647  0.882679  0.886262  0.891382  0.887291   \n",
       "2          12  0.873354  0.879060  0.883811  0.887352  0.897580  0.893562   \n",
       "3          14  0.872230  0.876599  0.878537  0.881064  0.894828  0.883160   \n",
       "4          16  0.871016  0.862422  0.880106  0.871333  0.893140  0.890404   \n",
       "\n",
       "         28  \n",
       "0  0.874759  \n",
       "1  0.875396  \n",
       "2  0.877569  \n",
       "3  0.874337  \n",
       "4  0.874061  "
      ]
     },
     "execution_count": 101,
     "metadata": {},
     "output_type": "execute_result"
    }
   ],
   "source": [
    "ap_data"
   ]
  },
  {
   "cell_type": "code",
   "execution_count": 102,
   "id": "582cde9d",
   "metadata": {
    "ExecuteTime": {
     "end_time": "2022-05-09T10:33:25.363461Z",
     "start_time": "2022-05-09T10:33:25.358676Z"
    }
   },
   "outputs": [],
   "source": [
    "ap_data = ap_data.iloc[:, 1:]"
   ]
  },
  {
   "cell_type": "code",
   "execution_count": 103,
   "id": "a4877cd5",
   "metadata": {
    "ExecuteTime": {
     "end_time": "2022-05-09T10:33:25.882040Z",
     "start_time": "2022-05-09T10:33:25.871036Z"
    }
   },
   "outputs": [],
   "source": [
    "ap_data.index = [8,10,12,14,16]"
   ]
  },
  {
   "cell_type": "code",
   "execution_count": 104,
   "id": "c192a637",
   "metadata": {
    "ExecuteTime": {
     "end_time": "2022-05-09T10:33:26.415731Z",
     "start_time": "2022-05-09T10:33:26.398743Z"
    }
   },
   "outputs": [
    {
     "data": {
      "text/html": [
       "<div>\n",
       "<style scoped>\n",
       "    .dataframe tbody tr th:only-of-type {\n",
       "        vertical-align: middle;\n",
       "    }\n",
       "\n",
       "    .dataframe tbody tr th {\n",
       "        vertical-align: top;\n",
       "    }\n",
       "\n",
       "    .dataframe thead th {\n",
       "        text-align: right;\n",
       "    }\n",
       "</style>\n",
       "<table border=\"1\" class=\"dataframe\">\n",
       "  <thead>\n",
       "    <tr style=\"text-align: right;\">\n",
       "      <th></th>\n",
       "      <th>16</th>\n",
       "      <th>18</th>\n",
       "      <th>20</th>\n",
       "      <th>22</th>\n",
       "      <th>24</th>\n",
       "      <th>26</th>\n",
       "      <th>28</th>\n",
       "    </tr>\n",
       "  </thead>\n",
       "  <tbody>\n",
       "    <tr>\n",
       "      <th>8</th>\n",
       "      <td>0.870415</td>\n",
       "      <td>0.875181</td>\n",
       "      <td>0.881455</td>\n",
       "      <td>0.883159</td>\n",
       "      <td>0.888040</td>\n",
       "      <td>0.878784</td>\n",
       "      <td>0.874759</td>\n",
       "    </tr>\n",
       "    <tr>\n",
       "      <th>10</th>\n",
       "      <td>0.871100</td>\n",
       "      <td>0.878647</td>\n",
       "      <td>0.882679</td>\n",
       "      <td>0.886262</td>\n",
       "      <td>0.891382</td>\n",
       "      <td>0.887291</td>\n",
       "      <td>0.875396</td>\n",
       "    </tr>\n",
       "    <tr>\n",
       "      <th>12</th>\n",
       "      <td>0.873354</td>\n",
       "      <td>0.879060</td>\n",
       "      <td>0.883811</td>\n",
       "      <td>0.887352</td>\n",
       "      <td>0.897580</td>\n",
       "      <td>0.893562</td>\n",
       "      <td>0.877569</td>\n",
       "    </tr>\n",
       "    <tr>\n",
       "      <th>14</th>\n",
       "      <td>0.872230</td>\n",
       "      <td>0.876599</td>\n",
       "      <td>0.878537</td>\n",
       "      <td>0.881064</td>\n",
       "      <td>0.894828</td>\n",
       "      <td>0.883160</td>\n",
       "      <td>0.874337</td>\n",
       "    </tr>\n",
       "    <tr>\n",
       "      <th>16</th>\n",
       "      <td>0.871016</td>\n",
       "      <td>0.862422</td>\n",
       "      <td>0.880106</td>\n",
       "      <td>0.871333</td>\n",
       "      <td>0.893140</td>\n",
       "      <td>0.890404</td>\n",
       "      <td>0.874061</td>\n",
       "    </tr>\n",
       "  </tbody>\n",
       "</table>\n",
       "</div>"
      ],
      "text/plain": [
       "          16        18        20        22        24        26        28\n",
       "8   0.870415  0.875181  0.881455  0.883159  0.888040  0.878784  0.874759\n",
       "10  0.871100  0.878647  0.882679  0.886262  0.891382  0.887291  0.875396\n",
       "12  0.873354  0.879060  0.883811  0.887352  0.897580  0.893562  0.877569\n",
       "14  0.872230  0.876599  0.878537  0.881064  0.894828  0.883160  0.874337\n",
       "16  0.871016  0.862422  0.880106  0.871333  0.893140  0.890404  0.874061"
      ]
     },
     "execution_count": 104,
     "metadata": {},
     "output_type": "execute_result"
    }
   ],
   "source": [
    "ap_data"
   ]
  },
  {
   "cell_type": "code",
   "execution_count": 105,
   "id": "a0adfe3d",
   "metadata": {
    "ExecuteTime": {
     "end_time": "2022-05-09T10:33:27.656767Z",
     "start_time": "2022-05-09T10:33:26.910330Z"
    }
   },
   "outputs": [
    {
     "data": {
      "image/png": "[encoded data removed]",
      "text/plain": [
       "<Figure size 1728x720 with 4 Axes>"
      ]
     },
     "metadata": {
      "needs_background": "light"
     },
     "output_type": "display_data"
    }
   ],
   "source": [
    "plt.figure(figsize=(24, 10))\n",
    "#plt.subplots_adjust(wspace=0.3, hspace=0.3)\n",
    "grid=plt.GridSpec(1, 2, wspace=0.2)\n",
    "\n",
    "AX0 = plt.subplot(grid[0,0])\n",
    "ax = sns.heatmap(ap_data,cmap=\"YlGnBu\",vmin=0.86,vmax=0.90,annot=True,cbar_kws={\"orientation\": \"horizontal\",\"location\":\"top\"},annot_kws={'size':20})\n",
    "ax.set_ylabel(None)\n",
    "ax.set_xlabel('(a) AP',fontsize=40)\n",
    "cax = plt.gcf().axes[-1]\n",
    "cax.tick_params(labelsize=25)\n",
    "AX0.tick_params(labelsize=30)\n",
    "\n",
    "AX1 = plt.subplot(grid[0, 1])\n",
    "#ax = sns.heatmap(auc_data,cmap=plt.cm.hot_r,vmin=0.9,vmax=1.0,annot=True,cbar_kws={\"orientation\": \"horizontal\",\"location\":\"top\"},annot_kws={'size':20})\n",
    "ax = sns.heatmap(auc_data,cmap=\"YlGnBu\",vmin=0.86,vmax=0.90,annot=True,cbar_kws={\"orientation\": \"horizontal\",\"location\":\"top\"},annot_kws={'size':20})\n",
    "ax.set_ylabel(None)\n",
    "ax.set_xlabel('(b) AUC',fontsize=40)\n",
    "cax = plt.gcf().axes[-1]\n",
    "cax.tick_params(labelsize=25)\n",
    "AX1.tick_params(labelsize=30)\n",
    "\n",
    "plt.savefig(\"parameters.svg\",bbox_inches='tight')\n",
    "plt.show()"
   ]
  },
  {
   "cell_type": "code",
   "execution_count": null,
   "id": "6f5a1d74",
   "metadata": {},
   "outputs": [],
   "source": []
  }
 ],
 "metadata": {
  "kernelspec": {
   "display_name": "Python 3 (ipykernel)",
   "language": "python",
   "name": "python3"
  },
  "language_info": {
   "codemirror_mode": {
    "name": "ipython",
    "version": 3
   },
   "file_extension": ".py",
   "mimetype": "text/x-python",
   "name": "python",
   "nbconvert_exporter": "python",
   "pygments_lexer": "ipython3",
   "version": "3.9.7"
  },
  "toc": {
   "base_numbering": 1,
   "nav_menu": {},
   "number_sections": true,
   "sideBar": true,
   "skip_h1_title": false,
   "title_cell": "Table of Contents",
   "title_sidebar": "Contents",
   "toc_cell": false,
   "toc_position": {},
   "toc_section_display": true,
   "toc_window_display": false
  },
  "varInspector": {
   "cols": {
    "lenName": 16,
    "lenType": 16,
    "lenVar": 40
   },
   "kernels_config": {
    "python": {
     "delete_cmd_postfix": "",
     "delete_cmd_prefix": "del ",
     "library": "var_list.py",
     "varRefreshCmd": "print(var_dic_list())"
    },
    "r": {
     "delete_cmd_postfix": ") ",
     "delete_cmd_prefix": "rm(",
     "library": "var_list.r",
     "varRefreshCmd": "cat(var_dic_list()) "
    }
   },
   "types_to_exclude": [
    "module",
    "function",
    "builtin_function_or_method",
    "instance",
    "_Feature"
   ],
   "window_display": false
  }
 },
 "nbformat": 4,
 "nbformat_minor": 5
}
